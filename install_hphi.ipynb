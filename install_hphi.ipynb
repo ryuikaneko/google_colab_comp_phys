{
  "nbformat": 4,
  "nbformat_minor": 0,
  "metadata": {
    "colab": {
      "name": "hphi.ipynb",
      "provenance": [],
      "collapsed_sections": []
    },
    "kernelspec": {
      "name": "python3",
      "display_name": "Python 3"
    }
  },
  "cells": [
    {
      "cell_type": "code",
      "metadata": {
        "id": "Es55NHRdLdYd",
        "colab_type": "code",
        "colab": {}
      },
      "source": [
        "!wget https://github.com/issp-center-dev/HPhi/releases/download/v3.3.1/HPhi-3.3.1.tar.gz\n",
        "!tar xzvf HPhi-3.3.1.tar.gz\n",
        "!mkdir -p HPhi-3.3.1.build\n",
        "%cd HPhi-3.3.1.build\n",
        "!cmake ../HPhi-3.3.1/\n",
        "!make\n",
        "!make test"
      ],
      "execution_count": 0,
      "outputs": []
    }
  ]
}