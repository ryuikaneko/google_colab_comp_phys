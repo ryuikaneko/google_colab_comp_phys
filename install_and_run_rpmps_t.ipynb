{
  "nbformat": 4,
  "nbformat_minor": 0,
  "metadata": {
    "colab": {
      "name": "install_RPMPS-T.ipynb",
      "provenance": [],
      "collapsed_sections": []
    },
    "kernelspec": {
      "name": "python3",
      "display_name": "Python 3"
    }
  },
  "cells": [
    {
      "cell_type": "code",
      "metadata": {
        "id": "r3_l2uLCnYcl"
      },
      "source": [
        "### download files\n",
        "!git clone https://github.com/ITensor/ITensor\n",
        "!git clone https://github.com/nlohmann/json\n",
        "!git clone https://github.com/ToruNiina/toml11\n",
        "!git clone https://github.com/ShimpeiGoto/RPMPS-T"
      ],
      "execution_count": null,
      "outputs": []
    },
    {
      "cell_type": "code",
      "metadata": {
        "id": "f9RAiaNwnlIj"
      },
      "source": [
        "### compile ITensor\n",
        "%cd ITensor/\n",
        "## ITensor v3.1.6\n",
        "!git checkout d4d05d9b8a2b6fed6bba8e2c3bf1633d5d0ab6ce\n",
        "!sed \\\n",
        " -e 's/PLATFORM=macos/#PLATFORM=macos/' \\\n",
        " -e 's/BLAS_LAPACK_LIBFLAGS=-framework Accelerate/#BLAS_LAPACK_LIBFLAGS=-framework Accelerate/' \\\n",
        " -e 's/#PLATFORM=lapack/PLATFORM=lapack/' \\\n",
        " -e 's|#BLAS_LAPACK_LIBFLAGS=-lpthread -L/usr/lib -lblas -llapack|BLAS_LAPACK_LIBFLAGS=-lpthread -L/usr/lib -lblas -llapack|' \\\n",
        " -e 's/DEBUGFLAGS=-DDEBUG -g -Wall -Wno-unknown-pragmas -pedantic/#DEBUGFLAGS=-DDEBUG -g -Wall -Wno-unknown-pragmas -pedantic/' \\\n",
        " options.mk.sample > options.mk\n",
        "!make"
      ],
      "execution_count": null,
      "outputs": []
    },
    {
      "cell_type": "code",
      "metadata": {
        "id": "iG3-dC5iowSo"
      },
      "source": [
        "### compile RPMPS-T\n",
        "!mkdir sample_RPMPS-T\n",
        "%cd sample_RPMPS-T\n",
        "!cp ../../RPMPS-T/*.cc .\n",
        "!cp ../../RPMPS-T/*.h .\n",
        "!cp ../../RPMPS-T/*.py .\n",
        "!cp ../../RPMPS-T/*.sample .\n",
        "!sed 's|LIBRARY_DIR=.*|LIBRARY_DIR=../|g' Makefile.sample > Makefile\n",
        "!cp setting.toml.sample setting.toml\n",
        "!cp ../../json/single_include/nlohmann/json.hpp .\n",
        "!cp ../../toml11/toml.hpp .\n",
        "!cp -r ../../toml11/toml/ .\n",
        "!make"
      ],
      "execution_count": null,
      "outputs": []
    },
    {
      "cell_type": "code",
      "metadata": {
        "id": "tQvtc9t-pTR8"
      },
      "source": [
        "### run RPMPS-T\n",
        "!sed -i 's/^Sample.*/Sample = 32/g' setting.toml\n",
        "!./RandomMPS\n",
        "!cat sample_*.json\n",
        "%run PlotJackknife.py"
      ],
      "execution_count": null,
      "outputs": []
    }
  ]
}