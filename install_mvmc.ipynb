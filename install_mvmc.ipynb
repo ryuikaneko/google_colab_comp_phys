{
  "nbformat": 4,
  "nbformat_minor": 0,
  "metadata": {
    "colab": {
      "name": "mvmc.ipynb",
      "provenance": [],
      "collapsed_sections": []
    },
    "kernelspec": {
      "name": "python3",
      "display_name": "Python 3"
    }
  },
  "cells": [
    {
      "cell_type": "code",
      "metadata": {
        "id": "vYDi8nzw1_OH",
        "colab_type": "code",
        "colab": {}
      },
      "source": [
        "!wget https://github.com/issp-center-dev/mVMC/releases/download/v1.1.1/mVMC-1.1.1.tar.gz\n",
        "!tar xzvf mVMC-1.1.1.tar.gz\n",
        "!mv mVMC mVMC-1.1.1\n",
        "!mkdir -p mVMC-1.1.1.build\n",
        "%cd mVMC-1.1.1.build/\n",
        "### fix bug in mVMC-1.1.1\n",
        "!sed -i 's/shared(eleCfg, eleProjCnt, eleIdx, eleNum, ip)/shared(eleCfg, eleProjCnt, eleIdx, eleNum)/g' ../mVMC-1.1.1/src/mVMC/include/../calham.c\n",
        "!sed -i 's/shared(eleCfg, eleProjCnt, eleIdx, eleNum, ip)/shared(eleCfg, eleProjCnt, eleIdx, eleNum)/g' ../mVMC-1.1.1/src/mVMC/include/../calham_real.c\n",
        "### end of fix bug in mVMC-1.1.1\n",
        "!cmake ../mVMC-1.1.1/\n",
        "!make"
      ],
      "execution_count": 0,
      "outputs": []
    }
  ]
}