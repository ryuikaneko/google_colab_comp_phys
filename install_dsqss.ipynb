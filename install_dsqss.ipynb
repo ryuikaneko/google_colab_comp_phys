{
  "nbformat": 4,
  "nbformat_minor": 0,
  "metadata": {
    "colab": {
      "name": "dsqss.ipynb",
      "provenance": [],
      "collapsed_sections": []
    },
    "kernelspec": {
      "name": "python3",
      "display_name": "Python 3"
    }
  },
  "cells": [
    {
      "cell_type": "code",
      "metadata": {
        "id": "O34IBX_I26hm"
      },
      "source": [
        "!wget https://github.com/issp-center-dev/dsqss/releases/download/v2.0.3/dsqss-v2.0.3.tar.gz\n",
        "!tar xvzf dsqss-v2.0.3.tar.gz\n",
        "#!find ./dsqss-v2.0.3 -name '._*'\n",
        "!find ./dsqss-v2.0.3 -name '._*' | xargs rm\n",
        "!mkdir dsqss-v2.0.3.build\n",
        "%cd dsqss-v2.0.3.build\n",
        "!cmake -DCMAKE_INSTALL_PREFIX=../usr ../dsqss-v2.0.3\n",
        "!make\n",
        "!ctest\n",
        "!make install\n",
        "#!source ../usr/share/dsqss/dsqssvars-2.0.3.sh\n",
        "#!cat ../usr/share/dsqss/dsqssvars-2.0.3.sh\n",
        "## https://stackoverflow.com/questions/56207920/how-to-add-the-path-to-pythonpath-in-google-colab\n",
        "!echo $PATH\n",
        "!echo $PYTHONPATH\n",
        "import os\n",
        "os.environ['PATH'] += \":/content/usr/bin\"\n",
        "os.environ['PYTHONPATH'] += \":/content/usr/lib/python3.6/site-packages\"\n",
        "!echo $PATH\n",
        "!echo $PYTHONPATH"
      ],
      "execution_count": null,
      "outputs": []
    }
  ]
}
