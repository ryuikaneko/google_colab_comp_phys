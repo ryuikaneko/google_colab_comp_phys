{
  "nbformat": 4,
  "nbformat_minor": 0,
  "metadata": {
    "colab": {
      "name": "materiapps_exclude_ermod.ipynb",
      "provenance": [],
      "collapsed_sections": []
    },
    "kernelspec": {
      "name": "python3",
      "display_name": "Python 3"
    }
  },
  "cells": [
    {
      "cell_type": "code",
      "metadata": {
        "id": "mkgqU_w2Y6LV",
        "colab_type": "code",
        "colab": {}
      },
      "source": [
        "!wget https://sf.net/projects/materiappslive/files/Debian/sources/setup.sh\n",
        "!sh setup.sh\n",
        "!apt-get install akaikkr task-alps bsa dsqss feram fermisurfer gamess-setup hphi lammps mvmc openmx paraview quantum-espresso respack vesta vmd-setup xcrysden"
      ],
      "execution_count": 0,
      "outputs": []
    },
    {
      "cell_type": "code",
      "metadata": {
        "id": "NmGSAhMcZA3u",
        "colab_type": "code",
        "colab": {}
      },
      "source": [
        "## install error?\n",
        "#!apt-get install ermod"
      ],
      "execution_count": 0,
      "outputs": []
    }
  ]
}