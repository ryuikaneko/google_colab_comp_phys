{
  "nbformat": 4,
  "nbformat_minor": 0,
  "metadata": {
    "colab": {
      "name": "materiapps.ipynb",
      "provenance": [],
      "collapsed_sections": []
    },
    "kernelspec": {
      "name": "python3",
      "display_name": "Python 3"
    }
  },
  "cells": [
    {
      "cell_type": "code",
      "metadata": {
        "id": "8_NIoohzStdo",
        "colab_type": "code",
        "colab": {}
      },
      "source": [
        "!wget https://sf.net/projects/materiappslive/files/Debian/sources/setup.sh\n",
        "!sh setup.sh\n",
        "!apt-get install akaikkr task-alps bsa dsqss ermod feram fermisurfer gamess-setup hphi lammps mvmc openmx paraview quantum−espresso respack vesta vmd-setup xcrysden"
      ],
      "execution_count": 0,
      "outputs": []
    }
  ]
}