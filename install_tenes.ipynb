{
  "nbformat": 4,
  "nbformat_minor": 0,
  "metadata": {
    "colab": {
      "name": "tenes.ipynb",
      "provenance": [],
      "collapsed_sections": []
    },
    "kernelspec": {
      "name": "python3",
      "display_name": "Python 3"
    }
  },
  "cells": [
    {
      "cell_type": "code",
      "metadata": {
        "id": "BBwpZKhiKmnv",
        "colab_type": "code",
        "colab": {}
      },
      "source": [
        "!apt-get install libscalapack-mpi-dev\n",
        "!wget https://github.com/issp-center-dev/TeNeS/releases/download/v1.0.0/TeNeS-v1.0.0.tar.gz\n",
        "!tar xzvf TeNeS-v1.0.0.tar.gz\n",
        "!mkdir -p TeNeS-v1.0.0.build\n",
        "%cd TeNeS-v1.0.0.build\n",
        "!cmake ../TeNeS-v1.0.0\n",
        "!make"
      ],
      "execution_count": 0,
      "outputs": []
    }
  ]
}