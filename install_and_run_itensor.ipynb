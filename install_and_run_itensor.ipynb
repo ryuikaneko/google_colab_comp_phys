{
  "nbformat": 4,
  "nbformat_minor": 0,
  "metadata": {
    "colab": {
      "name": "itensor.ipynb",
      "provenance": [],
      "collapsed_sections": []
    },
    "kernelspec": {
      "name": "python3",
      "display_name": "Python 3"
    }
  },
  "cells": [
    {
      "cell_type": "code",
      "metadata": {
        "id": "TADiFVovBoav",
        "colab_type": "code",
        "colab": {}
      },
      "source": [
        "!git clone https://github.com/ITensor/ITensor\n",
        "%cd ITensor\n",
        "### ITensor v3.1.2\n",
        "!git checkout 0b12e3cae78f2e2dd7843ba743c1756256ab96c8\n",
        "!sed \\\n",
        " -e 's/PLATFORM=macos/#PLATFORM=macos/' \\\n",
        " -e 's/BLAS_LAPACK_LIBFLAGS=-framework Accelerate/#BLAS_LAPACK_LIBFLAGS=-framework Accelerate/' \\\n",
        " -e 's/#PLATFORM=lapack/PLATFORM=lapack/' \\\n",
        " -e 's|#BLAS_LAPACK_LIBFLAGS=-lpthread -L/usr/lib -lblas -llapack|BLAS_LAPACK_LIBFLAGS=-lpthread -L/usr/lib -lblas -llapack|' \\\n",
        " -e 's/DEBUGFLAGS=-DDEBUG -g -Wall -Wno-unknown-pragmas -pedantic/#DEBUGFLAGS=-DDEBUG -g -Wall -Wno-unknown-pragmas -pedantic/' \\\n",
        " options.mk.sample > options.mk\n",
        "!make\n",
        "%cd sample\n",
        "!make\n",
        "%cd ../tutorial\n",
        "!for i in ./??_* ./finiteT ; do cd $i ; make ; cd - ; done\n",
        "%cd ../sample\n",
        "### run example codes\n",
        "!./dmrg\n",
        "!./mixedspin\n",
        "!./dmrg_table\n",
        "#!./dmrgj1j2 ### input j2 is required\n",
        "!./exthubbard\n",
        "!./trg\n",
        "!./hubbard_2d"
      ],
      "execution_count": 0,
      "outputs": []
    }
  ]
}
