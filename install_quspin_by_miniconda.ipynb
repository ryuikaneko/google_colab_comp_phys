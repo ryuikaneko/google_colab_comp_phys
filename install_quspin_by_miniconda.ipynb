{
  "nbformat": 4,
  "nbformat_minor": 0,
  "metadata": {
    "colab": {
      "name": "quspin_miniconda.ipynb",
      "provenance": [],
      "collapsed_sections": []
    },
    "kernelspec": {
      "name": "python3",
      "display_name": "Python 3"
    }
  },
  "cells": [
    {
      "cell_type": "markdown",
      "metadata": {
        "id": "22O2jEVHpdQh",
        "colab_type": "text"
      },
      "source": [
        "https://github.com/weinbe58/QuSpin\n",
        "\n",
        "https://stackoverflow.com/questions/59330876/install-conda-package-to-google-colab\n",
        "\n",
        "https://stackoverflow.com/questions/53031430/conda-environment-in-google-colab-google-colaboratory\n",
        "\n",
        "https://github.com/weinbe58/QuSpin/issues/319"
      ]
    },
    {
      "cell_type": "code",
      "metadata": {
        "id": "Ccjlx_gbpW1L",
        "colab_type": "code",
        "colab": {}
      },
      "source": [
        "!wget https://repo.anaconda.com/miniconda/Miniconda3-latest-Linux-x86_64.sh"
      ],
      "execution_count": 0,
      "outputs": []
    },
    {
      "cell_type": "code",
      "metadata": {
        "id": "jZRwlfMYpjFw",
        "colab_type": "code",
        "colab": {}
      },
      "source": [
        "# !sha256sum Miniconda3-latest-Linux-x86_64.sh\n",
        "# 957d2f0f0701c3d1335e3b39f235d197837ad69a944fa6f5d8ad2c686b69df3b"
      ],
      "execution_count": 0,
      "outputs": []
    },
    {
      "cell_type": "code",
      "metadata": {
        "id": "Q3BitIAfpkF6",
        "colab_type": "code",
        "colab": {}
      },
      "source": [
        "#!bash Miniconda3-latest-Linux-x86_64.sh\n",
        "#!bash Miniconda3-latest-Linux-x86_64.sh -b -f -p $HOME/miniconda3\n",
        "!bash Miniconda3-latest-Linux-x86_64.sh -b -f -p /usr/local/"
      ],
      "execution_count": 0,
      "outputs": []
    },
    {
      "cell_type": "code",
      "metadata": {
        "id": "427zOBhLpmAS",
        "colab_type": "code",
        "colab": {}
      },
      "source": [
        "import sys\n",
        "sys.path.append('/usr/local/lib/python3.7/site-packages')\n",
        "#!ls /usr/local/lib/python3.7/site-packages"
      ],
      "execution_count": 0,
      "outputs": []
    },
    {
      "cell_type": "code",
      "metadata": {
        "id": "1WpiKeCipnY9",
        "colab_type": "code",
        "colab": {}
      },
      "source": [
        "!conda update conda -y\n",
        "!conda update --all -y"
      ],
      "execution_count": 0,
      "outputs": []
    },
    {
      "cell_type": "code",
      "metadata": {
        "id": "dN9qErkBppx5",
        "colab_type": "code",
        "colab": {}
      },
      "source": [
        "!conda install -q -y --prefix /usr/local -c weinbe58 quspin\n",
        "!conda install -q -y --prefix /usr/local matplotlib\n",
        "#!conda install -q -y --prefix /usr/local numpy scipy joblib six dill gmpy2 numba matplotlib"
      ],
      "execution_count": 0,
      "outputs": []
    },
    {
      "cell_type": "code",
      "metadata": {
        "id": "2nH2fQTjprhU",
        "colab_type": "code",
        "colab": {}
      },
      "source": [
        "# downgrade numba to fix bug\n",
        "# https://github.com/weinbe58/QuSpin/issues/319\n",
        "!conda install -q -y --prefix /usr/local numba=0.48.0"
      ],
      "execution_count": 0,
      "outputs": []
    },
    {
      "cell_type": "code",
      "metadata": {
        "id": "Cjf0pdR8ptTN",
        "colab_type": "code",
        "colab": {}
      },
      "source": [
        "!wget https://raw.githubusercontent.com/weinbe58/QuSpin/master/examples/scripts/example0.py"
      ],
      "execution_count": 0,
      "outputs": []
    },
    {
      "cell_type": "code",
      "metadata": {
        "id": "Z4StVQOWpuyy",
        "colab_type": "code",
        "colab": {}
      },
      "source": [
        "!python example0.py"
      ],
      "execution_count": 0,
      "outputs": []
    }
  ]
}