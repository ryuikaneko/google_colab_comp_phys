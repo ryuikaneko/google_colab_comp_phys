{
  "nbformat": 4,
  "nbformat_minor": 0,
  "metadata": {
    "colab": {
      "name": "quspin_miniconda.ipynb",
      "provenance": [],
      "collapsed_sections": []
    },
    "kernelspec": {
      "name": "python3",
      "display_name": "Python 3"
    }
  },
  "cells": [
    {
      "cell_type": "markdown",
      "metadata": {
        "id": "jQZBtHfsaJ9A"
      },
      "source": [
        "20201205\n",
        "\n",
        "Python version of google colaboratory is 3.8\n",
        "\n",
        "QuSpin works for python version <= 3.7\n",
        "\n",
        "Need to activate older python each time to use QuSpin\n",
        "\n",
        "https://datascience.stackexchange.com/questions/75948/how-to-setup-and-run-conda-on-google-colab/75979#75979\n",
        "\n",
        "https://stackoverflow.com/questions/62610289/conda-activate-and-conda-init-fail-to-work-in-colab-as-per-june-2020\n",
        "\n",
        "https://github.com/weinbe58/QuSpin\n",
        "\n",
        "https://stackoverflow.com/questions/59330876/install-conda-package-to-google-colab\n",
        "\n",
        "https://stackoverflow.com/questions/53031430/conda-environment-in-google-colab-google-colaboratory\n",
        "\n",
        "https://github.com/weinbe58/QuSpin/issues/319\n",
        "\n",
        "https://github.com/weinbe58/QuSpin/issues/359\n",
        "\n",
        "https://github.com/conda/conda-build/issues/3938\n"
      ]
    },
    {
      "cell_type": "code",
      "metadata": {
        "id": "ONDTHhxDXbMb"
      },
      "source": [
        "# try to get the bare minimum to get a new conda env working\n",
        "conda_path = ''\n",
        "try:\n",
        "    conda_path = !which conda\n",
        "finally:\n",
        "    print('')\n",
        "\n",
        "if (len(conda_path) == 0):\n",
        "    print('installing miniconda')\n",
        "    !wget https://repo.continuum.io/miniconda/Miniconda3-4.5.4-Linux-x86_64.sh && bash Miniconda3-4.5.4-Linux-x86_64.sh -bfp /usr/local\n",
        "    !conda update conda -y -q\n",
        "    !source /usr/local/etc/profile.d/conda.sh\n",
        "    !conda init \n",
        "    !conda install -n root _license -y -q\n",
        "else:\n",
        "    print('found miniconda')\n",
        "\n",
        "conda_envs = !conda env list\n",
        "res = [i for i in conda_envs if 'test36' in i]\n",
        "if (len(res) == 0):\n",
        "    print('not found test36 env', len(res))\n",
        "    !conda create -y -q --name test36 python=3.6\n",
        "else:\n",
        "    print('found test36 env', len(res))\n"
      ],
      "execution_count": null,
      "outputs": []
    },
    {
      "cell_type": "code",
      "metadata": {
        "id": "724XqDiMYGfA"
      },
      "source": [
        "%%bash\n",
        "source activate test36\n",
        "\n",
        "python\n",
        "import sys\n",
        "# maybe only need this the first time we run this notebook\n",
        "sys.path.append('/usr/local/lib/python3.6/site-packages')\n",
        "\n",
        "print(\"Python version\")\n",
        "print(sys.version)\n"
      ],
      "execution_count": null,
      "outputs": []
    },
    {
      "cell_type": "code",
      "metadata": {
        "id": "_MsFqYxLuElb"
      },
      "source": [
        "%%bash\n",
        "source activate test36\n",
        "\n",
        "conda install -q -y -c weinbe58 quspin\n",
        "conda install -q -y matplotlib\n",
        "## downgrade numba to fix bug\n",
        "## https://github.com/weinbe58/QuSpin/issues/319\n",
        "conda install -q -y numba=0.48.0\n",
        "\n",
        "#wget https://raw.githubusercontent.com/weinbe58/QuSpin/master/examples/scripts/example0.py\n",
        "#python example0.py\n",
        "\n",
        "wget https://raw.githubusercontent.com/ryuikaneko/quspin_example/master/square__heisenberg__static/square_heisenberg.py\n",
        "python square_heisenberg.py > dat"
      ],
      "execution_count": null,
      "outputs": []
    },
    {
      "cell_type": "code",
      "metadata": {
        "id": "sxJ1S6k61CBk"
      },
      "source": [
        "!cat dat"
      ],
      "execution_count": null,
      "outputs": []
    }
  ]
}
